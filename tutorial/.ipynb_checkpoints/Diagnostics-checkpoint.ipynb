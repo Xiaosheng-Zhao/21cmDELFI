{
 "cells": [
  {
   "cell_type": "markdown",
   "metadata": {},
   "source": [
    "# The validatioin statistics of the posteriors\n",
    "For the PIT and copPIT calculation and validation, I mainly borrow and adapt from the public code [galpo](https://github.com/smucesh/galpro/), which is based on [S. Mucesh et al. 2021](https://academic.oup.com/mnras/article/502/2/2770/6105325) and closely related to [Tilmann Gneiting et al. 2007](https://rss.onlinelibrary.wiley.com/doi/full/10.1111/j.1467-9868.2007.00587.x) and [Johanna F. Ziegel and Tilmann Gneiting. 2014](https://projecteuclid.org/journals/electronic-journal-of-statistics/volume-8/issue-2/Copula-calibration/10.1214/14-EJS964.full); For the HPD validation, I mainly refer to [Diana Harrison et al. 2015].(https://academic.oup.com/mnras/article/451/3/2610/1186451)\n",
    "## contents\n",
    "1. The validation of the marginalized posterior for each parameter via PIT values, including the probablistic calibration and marginal calibration.\n",
    "2. The validation of the multivariate posterior via the copPIT values, including the probablistic calibration and Kendall calibration. \n",
    "3. The validation of the multivariate posterior via the HPD values, including the probablistic calibration."
   ]
  },
  {
   "cell_type": "code",
   "execution_count": 1,
   "metadata": {
    "collapsed": true
   },
   "outputs": [],
   "source": [
    "import numpy as np\n",
    "from scipy.stats import norm, multivariate_normal\n",
    "import matplotlib.pyplot as plt\n",
    "\n",
    "from labellines import labelLine, labelLines\n",
    "import glob\n",
    "import pickle\n",
    "\n",
    "from scipy.stats import entropy, kstest, cramervonmises, median_abs_deviation\n",
    "import seaborn as sns\n",
    "import statsmodels.api as sm\n",
    "\n",
    "import warnings\n",
    "warnings.filterwarnings(\"ignore\")"
   ]
  },
  {
   "cell_type": "markdown",
   "metadata": {},
   "source": [
    "##  PIT values"
   ]
  },
  {
   "cell_type": "markdown",
   "metadata": {},
   "source": [
    "###  For the save of storage, here we use only 30 samples from HERA331 simulation to show the process of the posterior validation."
   ]
  },
  {
   "cell_type": "code",
   "execution_count": 2,
   "metadata": {
    "collapsed": true
   },
   "outputs": [],
   "source": [
    "f = open('data/diagnostics/hera_30.pkl', 'rb')\n",
    "posterior_hera,prob_hera,true_hera,compressed_hera_true = pickle.load(f)\n",
    "no_samples=len(true_hera)"
   ]
  },
  {
   "cell_type": "code",
   "execution_count": 3,
   "metadata": {},
   "outputs": [
    {
     "data": {
      "text/plain": [
       "30"
      ]
     },
     "execution_count": 3,
     "metadata": {},
     "output_type": "execute_result"
    }
   ],
   "source": [
    "len(posterior_hera)"
   ]
  },
  {
   "cell_type": "code",
   "execution_count": 4,
   "metadata": {},
   "outputs": [
    {
     "data": {
      "text/plain": [
       "(59136, 2)"
      ]
     },
     "execution_count": 4,
     "metadata": {},
     "output_type": "execute_result"
    }
   ],
   "source": [
    "posterior_hera[0].shape"
   ]
  },
  {
   "cell_type": "markdown",
   "metadata": {},
   "source": [
    "### get metrics\n",
    "A classical KS test is based on the distance measure $D$ defined by\n",
    "\\begin{equation}\n",
    "D \\equiv \\max _{x}\\left|S_{N}(x)-F(x)\\right|,\n",
    "\\end{equation}\n",
    "The CvM test share the similar spirit of the KS test and based on the measure $D^*$\n",
    "\\begin{equation}\n",
    "D^* \\equiv N \\int_{-\\infty}^{\\infty}\\left(S_{N}(x)-F(x)\\right)^{2} \\mathrm{~d} F(x).\n",
    "\\end{equation}"
   ]
  },
  {
   "cell_type": "code",
   "execution_count": 9,
   "metadata": {
    "collapsed": true
   },
   "outputs": [],
   "source": [
    "#number of features \n",
    "no_features=2\n",
    "#number of points to generate the calibration plots\n",
    "no_points = 100\n",
    "\n",
    "path='data/'\n",
    "plot_folder='diagnostics/'"
   ]
  },
  {
   "cell_type": "code",
   "execution_count": 61,
   "metadata": {
    "collapsed": true
   },
   "outputs": [],
   "source": [
    "def get_pdf_metrics(pits, no_samples, no_features,  coppits=None):\n",
    "    \"\"\"Calculates performance metrics for PDFs.\"\"\"\n",
    "\n",
    "    pit_kst_p = np.empty(no_features)\n",
    "    pit_cvm_p = np.empty(no_features)\n",
    "\n",
    "    for feature in np.arange(no_features):\n",
    "        pit_kst_p[feature] = kstest(pits[:, feature], 'uniform')[1]\n",
    "        pit_cvm_p[feature] = cramervonmises(pits[:, feature], 'uniform').pvalue\n",
    "\n",
    "    if coppits is not None:\n",
    "        coppit_kst_p = kstest(coppits, 'uniform')[1]\n",
    "        coppit_cvm_p = cramervonmises(coppits, 'uniform').pvalue\n",
    "        return coppit_kst_p, coppit_cvm_p\n",
    "\n",
    "    return pit_kst_p, pit_cvm_p"
   ]
  },
  {
   "cell_type": "markdown",
   "metadata": {},
   "source": [
    "### probablistic calibration\n",
    "We use the probability integral tran sform (PIT) to validate the marginal posteriors. The PIT is defined as follows:\n",
    "\\begin{equation}\n",
    "\tP I T \\equiv \\int_{-\\infty}^{\\tilde{\\theta}} f(\\theta) \\mathrm{d} \\theta,\n",
    "\\end{equation}\n",
    "which is basically the CDF of the inferred marginal distribution $f(y)$ at the true values $\\tilde{\\theta}$ ($\\log _ { 10 } \\left( T_ { \\rm vir } \\right)$ or $\\mathrm{log_{10}\\zeta}$ in this work).\n",
    "We check the uniformity of the PITs by the QQ plot."
   ]
  },
  {
   "cell_type": "code",
   "execution_count": 62,
   "metadata": {
    "collapsed": true
   },
   "outputs": [],
   "source": [
    "def probabilistic_calibration(posteriors,no_samples,y_test):\n",
    "    \"\"\"Performs probabilistic calibration\"\"\"\n",
    "\n",
    "    pits = np.empty(( no_samples,  no_features))\n",
    "\n",
    "    for sample in np.arange( no_samples):\n",
    "        posterior =  posteriors[sample][:]\n",
    "        pits[sample] = np.sum(posterior <=  y_test[sample], axis=0) / posterior.shape[0]\n",
    "\n",
    "    print('Completed probabilistic calibration.')\n",
    "    return pits"
   ]
  },
  {
   "cell_type": "code",
   "execution_count": 63,
   "metadata": {},
   "outputs": [
    {
     "name": "stdout",
     "output_type": "stream",
     "text": [
      "Completed probabilistic calibration.\n"
     ]
    }
   ],
   "source": [
    "pits_hera=probabilistic_calibration(posterior_hera,no_samples,true_hera)"
   ]
  },
  {
   "cell_type": "code",
   "execution_count": 65,
   "metadata": {
    "collapsed": true
   },
   "outputs": [],
   "source": [
    "kst_p_hera, cvm_p_hera  = get_pdf_metrics(pits=pits_hera, no_samples=no_samples, no_features=no_features,\n",
    "                                                   coppits=None)"
   ]
  },
  {
   "cell_type": "code",
   "execution_count": 66,
   "metadata": {},
   "outputs": [
    {
     "name": "stdout",
     "output_type": "stream",
     "text": [
      "[0.20441372 0.65692307] [0.26297231 0.43206736]\n"
     ]
    }
   ],
   "source": [
    "print (kst_p_hera, cvm_p_hera)"
   ]
  },
  {
   "cell_type": "code",
   "execution_count": 67,
   "metadata": {},
   "outputs": [
    {
     "data": {
      "image/png": "[encoded data removed]",
      "text/plain": [
       "<Figure size 432x288 with 1 Axes>"
      ]
     },
     "metadata": {
      "needs_background": "light"
     },
     "output_type": "display_data"
    },
    {
     "data": {
      "image/png": "[encoded data removed]",
      "text/plain": [
       "<Figure size 432x288 with 1 Axes>"
      ]
     },
     "metadata": {
      "needs_background": "light"
     },
     "output_type": "display_data"
    }
   ],
   "source": [
    "target_features = ['$Tvir$', '$\\zeta$']\n",
    "pits=[pits_hera]\n",
    "colors=['g']\n",
    "label=['HERA331']\n",
    "for feature in np.arange(no_features):\n",
    "    fig,ax=plt.subplots(nrows=1,ncols=1)\n",
    "    #for i in range(3):\n",
    "    for i in range(1):\n",
    "        qqplot = sm.qqplot(pits[i][:, feature], 'uniform', line='45').gca().lines\n",
    "        qq_theory, qq_data = [qqplot[0].get_xdata(), qqplot[0].get_ydata()]\n",
    "        plt.close()\n",
    "        sns.lineplot(x=qq_theory, y=qq_data, ax=ax,color=colors[i],label=label[i])\n",
    "    ax.plot([0, 1], [0, 1], color='black', linewidth=1, linestyle='--')\n",
    "\n",
    "    ax.set_xlabel('$Q_{theory} \\ | \\ PIT \\ ($' +  target_features[feature] + '$)$')\n",
    "    ax.set_ylabel('$Q_{data}$')\n",
    "    ax.set_xlim([0, 1])\n",
    "    ax.set_ylim([0, 1])\n",
    "\n",
    "    leg = plt.legend(loc='upper left')\n",
    "            \n",
    "    plt.savefig(path + plot_folder + 'var_' + str(feature) + '_pit.pdf',\n",
    "                            bbox_inches='tight')\n",
    "            \n",
    "    plt.show()\n",
    "    plt.close()"
   ]
  },
  {
   "cell_type": "markdown",
   "metadata": {},
   "source": [
    "### marginal calibration\n",
    "\\usepackage{bbm}\n",
    "The marginal calibratioin describes the comparison between the average predictive CDF\n",
    "\\begin{equation}\n",
    "\\hat{F}_{I}(\\theta)\\equiv\\frac{1}{N} \\sum_{i=1}^{N} F_{i}(\\theta)\\,,\n",
    "\\end{equation}\n",
    "with the empirical CDF of the obvervations:\n",
    "\\begin{equation}\n",
    "\\tilde{G}_{I}(\\theta)\\equiv\\frac{1}{N} \\sum_{i=1}^{N} \\mathbb{1}\\left\\{\\tilde{\\theta}_i \\leq \\theta \\right\\}\\,,\n",
    "\\end{equation}\n",
    "where the indicator function $\\mathbb{1}\\left\\{\\hat{\\theta} \\leq \\theta \\right\\}$ equals 1 if the condition $\\hat{\\theta} \\leq \\theta$ is true, 0 otherwise. "
   ]
  },
  {
   "cell_type": "code",
   "execution_count": 68,
   "metadata": {
    "collapsed": true
   },
   "outputs": [],
   "source": [
    "def marginal_calibration(posteriors,no_samples,y_test):\n",
    "    \"\"\"Performs marginal calibration\"\"\"\n",
    "\n",
    "    points = np.linspace(np.floor(np.min( y_test, axis=0)), np.max( y_test, axis=0),  no_points)\n",
    "    marginal_calibration = np.empty(( no_points,  no_features))\n",
    "\n",
    "    for point in np.arange( no_points):\n",
    "        probs = np.zeros( no_features)\n",
    "\n",
    "        for sample in np.arange( no_samples):\n",
    "            posterior =  posteriors[sample][:]\n",
    "            probs += np.sum(posterior <= points[point], axis=0) / posterior.shape[0]\n",
    "\n",
    "        pred_cdf_marg_point = probs /  no_samples\n",
    "        true_cdf_marg_point = np.sum( y_test <= points[point], axis=0) /  no_samples\n",
    "        marginal_calibration[point] = pred_cdf_marg_point - true_cdf_marg_point\n",
    "\n",
    "    marginal_calibration = np.stack((points, marginal_calibration))\n",
    "    print('Completed marginal calibration.')\n",
    "    return marginal_calibration"
   ]
  },
  {
   "cell_type": "code",
   "execution_count": 69,
   "metadata": {},
   "outputs": [
    {
     "name": "stdout",
     "output_type": "stream",
     "text": [
      "Completed marginal calibration.\n"
     ]
    }
   ],
   "source": [
    "marginal_calibration_hera=marginal_calibration(posterior_hera,no_samples,true_hera)"
   ]
  },
  {
   "cell_type": "code",
   "execution_count": 70,
   "metadata": {},
   "outputs": [
    {
     "data": {
      "image/png": "[encoded data removed]",
      "text/plain": [
       "<Figure size 432x288 with 1 Axes>"
      ]
     },
     "metadata": {
      "needs_background": "light"
     },
     "output_type": "display_data"
    },
    {
     "data": {
      "image/png": "[encoded data removed]",
      "text/plain": [
       "<Figure size 432x288 with 1 Axes>"
      ]
     },
     "metadata": {
      "needs_background": "light"
     },
     "output_type": "display_data"
    }
   ],
   "source": [
    "target_features = ['$Tvir$', '$\\zeta$']\n",
    "marginal_calibration=[marginal_calibration_hera]\n",
    "colors=['g']\n",
    "label=['HERA331']\n",
    "for feature in np.arange( no_features):\n",
    "    #for i in range(3):\n",
    "    for i in range(1):\n",
    "        sns.lineplot(x=marginal_calibration[i][0, :, feature], y=marginal_calibration[i][1, :, feature], color=colors[i],label=label[i])\n",
    "\n",
    "    plt.axhline(0, color='black', linewidth=1, linestyle='--')\n",
    "    plt.ylim([-np.max(np.abs(np.array(marginal_calibration)[:,1, :, feature])),\n",
    "                  np.max(np.abs(np.array(marginal_calibration)[:,1, :, feature]))])\n",
    "    plt.xlabel( target_features[feature])\n",
    "    plt.ylabel(r'$\\hat{F}_{I} - \\tilde{G}_{I}$')\n",
    "    plt.savefig(path + plot_folder + 'var_' + str(feature) +\n",
    "                            '_marginal_calibration.pdf', bbox_inches='tight')\n",
    "    plt.show()\n",
    "    plt.close()"
   ]
  },
  {
   "cell_type": "markdown",
   "metadata": {},
   "source": [
    "## copPIT values"
   ]
  },
  {
   "cell_type": "markdown",
   "metadata": {},
   "source": [
    "### probablistic calibration\n",
    "The probablistic copula calibration can be emprically accessed with the copula probability integral transformation (copPIT)\n",
    "\\begin{equation}\n",
    "{\\rm copPIT} \\equiv \\mathcal{K}_{H}(H(\\tilde{\\theta})),\n",
    "\\end{equation}\n",
    "where $\\mathcal{K}_{H}$ is the Kendall distribution function of a CDF $H(\\theta)$:\n",
    "\\begin{equation}\n",
    "\\mathcal{K}_{H}(w)=\\operatorname{Pr}\\{H(\\theta) \\leq w\\} \\quad \\text { for } \\quad w \\in[0,1],\n",
    "\\end{equation}\n",
    "where the $\\operatorname{pr}$ represent the probability. With this definition, the Kendall distribution function can be interpreted as the CDF of $H(\\theta)$. So the coPIT is basically the Kendall distribution function evaluated at the \"true\" value $\\tilde{\\theta}$\n",
    "\\begin{equation}\n",
    "{\\rm copPIT} = \\operatorname{pr}\\{H(\\theta) \\leq H(\\tilde{\\theta})\\}.\n",
    "\\end{equation}"
   ]
  },
  {
   "cell_type": "code",
   "execution_count": 71,
   "metadata": {
    "collapsed": true
   },
   "outputs": [],
   "source": [
    "def create_templates(no_features):\n",
    "    \"\"\"Creates templates to perform multivariate calibration\"\"\"\n",
    "\n",
    "    template = []\n",
    "    template_same = []\n",
    "    for feature in np.arange(no_features):\n",
    "\n",
    "        if feature != (no_features - 1):\n",
    "            template.append('(posterior[:,' + str(feature) + '] < posterior[pred,' + str(feature) + ']) & ')\n",
    "            template_same.append('(posterior[:,' + str(feature) + '] == posterior[pred,' + str(feature) + ']) & ')\n",
    "        else:\n",
    "            template.append('(posterior[:,' + str(feature) + '] < posterior[pred,' + str(feature) + '])')\n",
    "            template_same.append('(posterior[:,' + str(feature) + '] == posterior[pred,' + str(feature) + '])')\n",
    "\n",
    "    template_pred = ''.join(template)\n",
    "    template_same = ''.join(template_same)\n",
    "    template_true = template_pred.replace('posterior[pred', 'y_test[sample')\n",
    "    template_true = template_true.replace('<', '<=')\n",
    "\n",
    "    return template_pred, template_true, template_same"
   ]
  },
  {
   "cell_type": "code",
   "execution_count": 72,
   "metadata": {
    "collapsed": true
   },
   "outputs": [],
   "source": [
    "def probabilistic_copula_calibration(posteriors,no_samples,y_test):\n",
    "    \"\"\"Performs probabilistic copula calibration\"\"\"\n",
    "\n",
    "    # Creating a list of list containing pred_cdf of each point in predictions\n",
    "    pred_cdf_full = [[] for i in np.arange( no_samples)]\n",
    "    true_cdf_full = []\n",
    "    coppits = np.empty( no_samples)\n",
    "    template_pred, template_true, template_same = create_templates(no_features= no_features)\n",
    "\n",
    "    for sample in np.arange( no_samples):\n",
    "        posterior =  posteriors[sample][:]\n",
    "        no_preds = posterior.shape[0]\n",
    "\n",
    "        for pred in np.arange(no_preds):\n",
    "            # For point at edges, if <= used, then point counts and cdf is never 0.\n",
    "            # If <= is used and the full MCMC chains are used, a large number of point will have near 0 probability, as a result, there will\n",
    "            # be a peak at 0. The point in consideration does not count when determining cdf.\n",
    "            # If we only use the accepted chains, this should not be the problem.\n",
    "            same_preds = np.sum(eval(template_same))\n",
    "            pred_cdf_full[sample].append(np.sum(eval(template_pred)) / (no_preds - same_preds))\n",
    "\n",
    "        true_cdf_full.append(np.sum(eval(template_true)) / no_preds)\n",
    "        coppits[sample] = np.sum(pred_cdf_full[sample] <= true_cdf_full[sample]) / no_preds\n",
    "\n",
    "    print('Completed probabilistic copula calibration.')\n",
    "    return coppits, pred_cdf_full, true_cdf_full"
   ]
  },
  {
   "cell_type": "code",
   "execution_count": 73,
   "metadata": {},
   "outputs": [
    {
     "name": "stdout",
     "output_type": "stream",
     "text": [
      "Completed probabilistic copula calibration.\n"
     ]
    }
   ],
   "source": [
    "coppits_hera, pred_cdf_full_hera, true_cdf_full_hera=probabilistic_copula_calibration(posterior_hera,no_samples,true_hera)"
   ]
  },
  {
   "cell_type": "code",
   "execution_count": 74,
   "metadata": {
    "collapsed": true
   },
   "outputs": [],
   "source": [
    "kst_p_hera_coppit, cvm_p_hera_coppit  = get_pdf_metrics(pits=pits_hera, no_samples=no_samples, no_features=no_features,\n",
    "                                                  coppits=coppits_hera)"
   ]
  },
  {
   "cell_type": "code",
   "execution_count": 75,
   "metadata": {},
   "outputs": [
    {
     "name": "stdout",
     "output_type": "stream",
     "text": [
      "0.5052413743119974 0.35191335343279806\n"
     ]
    }
   ],
   "source": [
    "print (kst_p_hera_coppit, cvm_p_hera_coppit)"
   ]
  },
  {
   "cell_type": "code",
   "execution_count": 76,
   "metadata": {},
   "outputs": [
    {
     "data": {
      "image/png": "[encoded data removed]",
      "text/plain": [
       "<Figure size 432x288 with 1 Axes>"
      ]
     },
     "metadata": {
      "needs_background": "light"
     },
     "output_type": "display_data"
    }
   ],
   "source": [
    "coppits=[coppits_hera]\n",
    "colors=['g']\n",
    "label=['HERA331']\n",
    "fig,ax=plt.subplots(nrows=1,ncols=1)\n",
    "#for i in range(3):\n",
    "for i in range(1):\n",
    "    qqplot = sm.qqplot(coppits[i], 'uniform', line='45').gca().lines\n",
    "    qq_theory, qq_data = [qqplot[0].get_xdata(), qqplot[0].get_ydata()]\n",
    "    plt.close()\n",
    "\n",
    "    sns.lineplot(x=qq_theory, y=qq_data, ax=ax,color=colors[i],label=label[i])\n",
    "ax.plot([0, 1], [0, 1], color='black', linewidth=1, linestyle='--')\n",
    "\n",
    "ax.set_xlabel('$Q_{theory} \\ | \\ copPIT$')\n",
    "ax.set_ylabel('$Q_{data}$')\n",
    "ax.set_xlim([0, 1])\n",
    "ax.set_ylim([0, 1])\n",
    "\n",
    "leg = plt.legend(loc='upper left')\n",
    "            \n",
    "plt.savefig(path + plot_folder + 'coppit.pdf', bbox_inches='tight')\n",
    "            \n",
    "plt.show()\n",
    "plt.close()"
   ]
  },
  {
   "cell_type": "markdown",
   "metadata": {},
   "source": [
    "### Kendall calibration\n",
    "The Kendall calibration can be accessed by comparing the average Kendall distribution function\n",
    "\\begin{equation}\n",
    "\\hat{\\mathcal{K}}_{H_{I}}(w)=\\frac{1}{n} \\sum_{i=1}^{n} \\mathcal{K}_{H_{i}}(w).\n",
    "\\end{equation}\n",
    "\n",
    "\n",
    "with the emprical CDF of the joint CDFs evaluated on the ``true'' values $\\tilde{\\theta}$\n",
    "\\begin{equation}\n",
    "\\tilde{J}_{I}(w)=\\frac{1}{n} \\sum_{i=1}^{n} \\mathbb{1}\\left\\{H_{i}\\left(\\tilde{\\theta}_{i}\\right) \\leq w\\right\\},\n",
    "\\end{equation}"
   ]
  },
  {
   "cell_type": "code",
   "execution_count": 77,
   "metadata": {
    "collapsed": true
   },
   "outputs": [],
   "source": [
    "def kendall_calibration(pred_cdf_full, true_cdf_full,no_samples):\n",
    "    \"\"\"Performs kendall calibration\"\"\"\n",
    "\n",
    "    kendall_calibration = np.empty( no_points)\n",
    "    count = 0 \n",
    "\n",
    "    for point in np.linspace(0, 1,  no_points):\n",
    "        sum_ = np.zeros( no_samples)\n",
    "        for sample in np.arange( no_samples):\n",
    "            sum_[sample] = np.sum(pred_cdf_full[sample] <= point) / len(pred_cdf_full[sample])\n",
    "\n",
    "        kendall_func_point = np.sum(sum_) /  no_samples\n",
    "        true_cdf_point = np.sum(true_cdf_full <= point) /  no_samples\n",
    "        kendall_calibration[count] = kendall_func_point - true_cdf_point\n",
    "        count += 1\n",
    "\n",
    "    print('Completed kendall calibration.')\n",
    "    return kendall_calibration"
   ]
  },
  {
   "cell_type": "code",
   "execution_count": 78,
   "metadata": {},
   "outputs": [
    {
     "name": "stdout",
     "output_type": "stream",
     "text": [
      "Completed kendall calibration.\n"
     ]
    }
   ],
   "source": [
    "kendall_calibration_hera = kendall_calibration(pred_cdf_full_hera, true_cdf_full_hera,no_samples)"
   ]
  },
  {
   "cell_type": "code",
   "execution_count": 79,
   "metadata": {},
   "outputs": [
    {
     "data": {
      "image/png": "[encoded data removed]",
      "text/plain": [
       "<Figure size 432x288 with 1 Axes>"
      ]
     },
     "metadata": {
      "needs_background": "light"
     },
     "output_type": "display_data"
    }
   ],
   "source": [
    "kendall_calibration=[kendall_calibration_hera]\n",
    "colors=['g']\n",
    "label=['HERA331']\n",
    "#for i in range(3):\n",
    "for i in range(1):\n",
    "    sns.lineplot(x=np.linspace(0, 1,  no_points), y=kendall_calibration[i], color=colors[i],label=label[i])\n",
    "\n",
    "plt.axhline(0, color='black', linewidth=1, linestyle='--')\n",
    "plt.xlim([0, 1]) \n",
    "plt.ylim([-np.max(np.abs(np.array(kendall_calibration))),\n",
    "                  np.max(np.abs(np.array(kendall_calibration)))])\n",
    "plt.xlabel('$w$')\n",
    "plt.ylabel(r'$\\mathcal{\\hat{K}}_{H_{I}}  - \\tilde{J}_{I}$')\n",
    "plt.savefig(path + plot_folder + 'kendall_calibration.pdf', bbox_inches='tight')\n",
    "plt.show()\n",
    "plt.close()"
   ]
  },
  {
   "cell_type": "markdown",
   "metadata": {},
   "source": [
    "## HPD values (hera, for other levels of signals the processes are similar)"
   ]
  },
  {
   "cell_type": "code",
   "execution_count": 1,
   "metadata": {},
   "outputs": [
    {
     "name": "stdout",
     "output_type": "stream",
     "text": [
      "WARNING:tensorflow:From /home/zxs/miniconda3/envs/21cmfast/lib/python3.6/site-packages/pydelfi-0.1-py3.6.egg/pydelfi/train.py:9: The name tf.train.AdamOptimizer is deprecated. Please use tf.compat.v1.train.AdamOptimizer instead.\n",
      "\n"
     ]
    }
   ],
   "source": [
    "import numpy as np\n",
    "import matplotlib.pyplot as plt\n",
    "import pydelfi.priors as priors\n",
    "import pydelfi.ndes as ndes\n",
    "import pydelfi.delfi as delfi\n",
    "import tensorflow as tf"
   ]
  },
  {
   "cell_type": "markdown",
   "metadata": {},
   "source": [
    "### probablistic calibration\n",
    "The HPD is defined by\n",
    "\\begin{equation}\n",
    "HPD(\\boldsymbol{\\tilde{\\theta}})=\\int_{f(\\boldsymbol{\\theta}) \\geq f(\\boldsymbol{\\tilde{\\theta}})} f(\\boldsymbol{\\theta}) \\mathrm{d}^{n} \\boldsymbol{\\theta}.\n",
    "\\end{equation}"
   ]
  },
  {
   "cell_type": "code",
   "execution_count": 12,
   "metadata": {},
   "outputs": [
    {
     "name": "stdout",
     "output_type": "stream",
     "text": [
      "WARNING:tensorflow:From /home/zxs/miniconda3/envs/21cmfast/lib/python3.6/site-packages/pydelfi-0.1-py3.6.egg/pydelfi/ndes.py:234: The name tf.variable_scope is deprecated. Please use tf.compat.v1.variable_scope instead.\n",
      "\n",
      "WARNING:tensorflow:From /home/zxs/miniconda3/envs/21cmfast/lib/python3.6/site-packages/pydelfi-0.1-py3.6.egg/pydelfi/ndes.py:147: The name tf.get_variable is deprecated. Please use tf.compat.v1.get_variable instead.\n",
      "\n",
      "WARNING:tensorflow:From /home/zxs/miniconda3/envs/21cmfast/lib/python3.6/site-packages/pydelfi-0.1-py3.6.egg/pydelfi/ndes.py:66: The name tf.losses.mean_squared_error is deprecated. Please use tf.compat.v1.losses.mean_squared_error instead.\n",
      "\n",
      "WARNING:tensorflow:From /home/zxs/miniconda3/envs/21cmfast/lib/python3.6/site-packages/tensorflow/python/ops/losses/losses_impl.py:121: add_dispatch_support.<locals>.wrapper (from tensorflow.python.ops.array_ops) is deprecated and will be removed in a future version.\n",
      "Instructions for updating:\n",
      "Use tf.where in 2.0, which has the same broadcast rule as np.where\n",
      "WARNING:tensorflow:From /home/zxs/miniconda3/envs/21cmfast/lib/python3.6/site-packages/pydelfi-0.1-py3.6.egg/pydelfi/delfi.py:74: The name tf.Session is deprecated. Please use tf.compat.v1.Session instead.\n",
      "\n",
      "WARNING:tensorflow:From /home/zxs/miniconda3/envs/21cmfast/lib/python3.6/site-packages/pydelfi-0.1-py3.6.egg/pydelfi/delfi.py:74: The name tf.ConfigProto is deprecated. Please use tf.compat.v1.ConfigProto instead.\n",
      "\n",
      "WARNING:tensorflow:From /home/zxs/miniconda3/envs/21cmfast/lib/python3.6/site-packages/pydelfi-0.1-py3.6.egg/pydelfi/delfi.py:176: The name tf.train.Saver is deprecated. Please use tf.compat.v1.train.Saver instead.\n",
      "\n",
      "WARNING:tensorflow:From /home/zxs/miniconda3/envs/21cmfast/lib/python3.6/site-packages/tensorflow/python/training/saver.py:1276: checkpoint_exists (from tensorflow.python.training.checkpoint_management) is deprecated and will be removed in a future version.\n",
      "Instructions for updating:\n",
      "Use standard file APIs to check for files with this prefix.\n",
      "INFO:tensorflow:Restoring parameters from data/diagnostics/trained_hera/graph_checkpoint\n"
     ]
    }
   ],
   "source": [
    "#directory to load the trained ndes\n",
    "diri = \"data/diagnostics/trained_hera/\" \n",
    "\n",
    "theta_fiducial = true_hera[0] \n",
    "compressed_data = compressed_hera_true[0] \n",
    "\n",
    "nd=compressed_hera_true.shape[1]\n",
    "\n",
    "lower = np.array([4,1])\n",
    "upper = np.array([6,2.398])\n",
    "prior = priors.Uniform(lower, upper)\n",
    "\n",
    "NDEs = [ndes.ConditionalMaskedAutoregressiveFlow(n_parameters=2, n_data=nd, n_hiddens=[50,50], n_mades=5, act_fun=tf.tanh, index=0),\n",
    "            ndes.ConditionalMaskedAutoregressiveFlow(n_parameters=2, n_data=nd, n_hiddens=[50,50], n_mades=5, act_fun=tf.tanh, index=1),\n",
    "            ndes.ConditionalMaskedAutoregressiveFlow(n_parameters=2, n_data=nd, n_hiddens=[50,50], n_mades=5, act_fun=tf.tanh, index=2),\n",
    "            ndes.ConditionalMaskedAutoregressiveFlow(n_parameters=2, n_data=nd, n_hiddens=[50,50], n_mades=5, act_fun=tf.tanh, index=3)]\n",
    "\n",
    "DelfiEnsemble = delfi.Delfi(compressed_data, prior, NDEs,\n",
    "                            Finv = None,\n",
    "                            n_procs = 1,\n",
    "                            theta_fiducial = theta_fiducial,\n",
    "                            param_limits = [lower, upper],\n",
    "                            param_names = ['\\mathrm{log_{10}\\,T_{vir}}', '\\mathrm{log_{10}\\,\\zeta}'],\n",
    "                            results_dir = diri,\n",
    "                            progress_bar = False,\n",
    "                            save = False,\n",
    "                            restore = True,\n",
    "                            input_normalization=None)"
   ]
  },
  {
   "cell_type": "code",
   "execution_count": 13,
   "metadata": {
    "collapsed": true
   },
   "outputs": [],
   "source": [
    "def probabilistic_hpd_calibration(posteriors,no_samples,y_test,compressed,prob):\n",
    "    \"\"\"\n",
    "    Performs probabilistic calibration\n",
    "    :posteriors: numpy array of a list of posteriors\n",
    "    :no_samples: the number of validation samples\n",
    "    :y_test: the true parameters of the validation samples\n",
    "    :compressed: the mock observation data of the validation samples\n",
    "    :prob: the probability of each point in the posterior chain (from MCMC sampling)\n",
    "    \"\"\"\n",
    "\n",
    "    hpds = np.empty(( no_samples))\n",
    "    for sample in np.arange( no_samples):\n",
    "        posterior =  posteriors[sample][:]\n",
    "        true_prob=DelfiEnsemble.log_posterior_stacked(y_test[sample], compressed[sample])\n",
    "        hpds[sample] = np.sum(prob[sample]>=true_prob)/len(posterior)\n",
    "\n",
    "    print('Completed probabilistic hpd calibration.')\n",
    "    return hpds"
   ]
  },
  {
   "cell_type": "code",
   "execution_count": 16,
   "metadata": {},
   "outputs": [
    {
     "name": "stdout",
     "output_type": "stream",
     "text": [
      "Completed probabilistic hpd calibration.\n"
     ]
    }
   ],
   "source": [
    "hpds_hera=probabilistic_hpd_calibration(posterior_hera,no_samples,true_hera,compressed_hera_true,prob_hera)"
   ]
  },
  {
   "cell_type": "code",
   "execution_count": 19,
   "metadata": {
    "collapsed": true
   },
   "outputs": [],
   "source": [
    "np.save('data/diagnostics/hpd_hera.npy',hpds_hera)\n",
    "#hpds_hera=np.load('data/diagnostics/hpd_hera.npy')"
   ]
  },
  {
   "cell_type": "code",
   "execution_count": 7,
   "metadata": {},
   "outputs": [
    {
     "name": "stdout",
     "output_type": "stream",
     "text": [
      "0.17038226029338244\n",
      "0.19396852317676072\n"
     ]
    }
   ],
   "source": [
    "pit_kst_p = kstest(hpds_hera, 'uniform')[1]\n",
    "pit_cvm_p = cramervonmises(hpds_hera, 'uniform').pvalue\n",
    "print (pit_kst_p)\n",
    "print (pit_cvm_p)"
   ]
  },
  {
   "cell_type": "code",
   "execution_count": 10,
   "metadata": {},
   "outputs": [
    {
     "data": {
      "image/png": "[encoded data removed]",
      "text/plain": [
       "<Figure size 432x288 with 1 Axes>"
      ]
     },
     "metadata": {
      "needs_background": "light"
     },
     "output_type": "display_data"
    }
   ],
   "source": [
    "hpds=[hpds_hera]\n",
    "colors=['g']\n",
    "label=['HERA331']\n",
    "fig,ax=plt.subplots(nrows=1,ncols=1)\n",
    "#for i in range(3):\n",
    "for i in range(1):\n",
    "    qqplot = sm.qqplot(hpds[i], 'uniform', line='45').gca().lines\n",
    "    qq_theory, qq_data = [qqplot[0].get_xdata(), qqplot[0].get_ydata()]\n",
    "    plt.close()\n",
    "\n",
    "    sns.lineplot(x=qq_theory, y=qq_data, ax=ax,color=colors[i],label=label[i])\n",
    "ax.plot([0, 1], [0, 1], color='black', linewidth=1, linestyle='--')\n",
    "\n",
    "ax.set_xlabel('$Q_{theory} \\ | \\ hpd$')\n",
    "ax.set_ylabel('$Q_{data}$')\n",
    "ax.set_xlim([0, 1])\n",
    "ax.set_ylim([0, 1])\n",
    "\n",
    "leg = plt.legend(loc='upper left')\n",
    "            \n",
    "plt.savefig(path + plot_folder + 'hpd.pdf', bbox_inches='tight')\n",
    "            \n",
    "plt.show()\n",
    "plt.close()"
   ]
  },
  {
   "cell_type": "code",
   "execution_count": null,
   "metadata": {
    "collapsed": true
   },
   "outputs": [],
   "source": []
  }
 ],
 "metadata": {
  "kernelspec": {
   "display_name": "Python 3",
   "language": "python",
   "name": "python3"
  },
  "language_info": {
   "codemirror_mode": {
    "name": "ipython",
    "version": 3
   },
   "file_extension": ".py",
   "mimetype": "text/x-python",
   "name": "python",
   "nbconvert_exporter": "python",
   "pygments_lexer": "ipython3",
   "version": "3.7.4"
  }
 },
 "nbformat": 4,
 "nbformat_minor": 4
}
