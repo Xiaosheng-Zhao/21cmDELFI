{
 "cells": [
  {
   "cell_type": "markdown",
   "metadata": {},
   "source": [
    "# Posterior test\n",
    "In this notebook, you can test on any observable with an individual trained model or the stacked one. As long as you have enough test samples, you can use the test results to validate the posteriors. The diagnostics of the validation is introduced in another notebook \"Diagnostics\""
   ]
  },
  {
   "cell_type": "code",
   "execution_count": 1,
   "metadata": {},
   "outputs": [
    {
     "name": "stdout",
     "output_type": "stream",
     "text": [
      "WARNING:tensorflow:From /home/zxs/miniconda3/envs/21cmfast/lib/python3.6/site-packages/pydelfi-0.1-py3.6.egg/pydelfi/train.py:9: The name tf.train.AdamOptimizer is deprecated. Please use tf.compat.v1.train.AdamOptimizer instead.\n",
      "\n"
     ]
    }
   ],
   "source": [
    "import os\n",
    "#os.environ[\"CUDA_VISIBLE_DEVICES\"] = \"7\"\n",
    "import numpy as np\n",
    "import matplotlib.pyplot as plt\n",
    "import pydelfi.priors as priors\n",
    "import pydelfi.ndes as ndes\n",
    "import pydelfi.delfi as delfi\n",
    "import tensorflow as tf\n",
    "import pickle\n",
    "\n",
    "tf.logging.set_verbosity(tf.logging.ERROR)\n",
    "config = tf.ConfigProto(intra_op_parallelism_threads=1, inter_op_parallelism_threads=1, allow_soft_placement=True, device_count = {'CPU': 1})\n",
    "session = tf.Session(config=config)"
   ]
  },
  {
   "cell_type": "markdown",
   "metadata": {},
   "source": [
    "## Prepare the data"
   ]
  },
  {
   "cell_type": "code",
   "execution_count": 2,
   "metadata": {
    "collapsed": true
   },
   "outputs": [],
   "source": [
    "#define the parameter prior \n",
    "lower = np.array([4,1])\n",
    "upper = np.array([6,2.398])\n",
    "prior = priors.Uniform(lower, upper)\n",
    "\n",
    "#validation data\n",
    "theta_fiducials = np.load('data/hera_para_validation.npy')\n",
    "compressed_datas = np.load('data/hera_ps_validation.npy')\n",
    "\n",
    "#training data\n",
    "sim_params = np.load('data/hera_para.npy')\n",
    "sim_compressed_data=np.load('data/hera_ps.npy')\n",
    "\n",
    "#dimension of the data summary\n",
    "nd=compressed_datas.shape[1]\n",
    "\n",
    "#0 for the faint model; 1 for the bright model\n",
    "theta_fiducial = theta_fiducials[0]\n",
    "compressed_data = compressed_datas[0]\n",
    "\n",
    "#the directory to load the trained model\n",
    "diri = \"data/diagnostics/trained_hera/\""
   ]
  },
  {
   "cell_type": "markdown",
   "metadata": {},
   "source": [
    "## Define the function for validation on a single mock observation"
   ]
  },
  {
   "cell_type": "code",
   "execution_count": 3,
   "metadata": {
    "collapsed": true
   },
   "outputs": [],
   "source": [
    "def pos(i):\n",
    "   \n",
    "    theta_fiducial = theta_fiducials[i]\n",
    "    compressed_data = compressed_datas[i]\n",
    "\n",
    "    NDEs = [ndes.ConditionalMaskedAutoregressiveFlow(n_parameters=2, n_data=nd, n_hiddens=[50,50], n_mades=5, act_fun=tf.tanh, index=0),\n",
    "            ndes.ConditionalMaskedAutoregressiveFlow(n_parameters=2, n_data=nd, n_hiddens=[50,50], n_mades=5, act_fun=tf.tanh, index=1),\n",
    "            ndes.ConditionalMaskedAutoregressiveFlow(n_parameters=2, n_data=nd, n_hiddens=[50,50], n_mades=5, act_fun=tf.tanh, index=2),\n",
    "            ndes.ConditionalMaskedAutoregressiveFlow(n_parameters=2, n_data=nd, n_hiddens=[50,50], n_mades=5, act_fun=tf.tanh, index=3)]\n",
    "    \n",
    "\n",
    "    DelfiEnsemble = delfi.Delfi(compressed_data, prior, NDEs, \n",
    "                            Finv = None,\n",
    "                            n_procs = 1,\n",
    "                            theta_fiducial = theta_fiducial, \n",
    "                            param_limits = [lower, upper],\n",
    "                            param_names = ['\\mathrm{log_{10}\\,T_{vir}}', '\\mathrm{log_{10}\\,\\zeta}'], \n",
    "                            results_dir = diri,\n",
    "                            progress_bar = False,\n",
    "                            save = False,\n",
    "                            restore = True,\n",
    "                            input_normalization=None)\n",
    "\n",
    "    \n",
    "    posterior_samples = DelfiEnsemble.emcee_sample(burn_in_chain=600, main_chain=1000)\n",
    "    with open('data/posterior_samples/po_validate_%d.pkl'%i, 'wb') as f:\n",
    "        pickle.dump(posterior_samples,f)\n",
    "  "
   ]
  },
  {
   "cell_type": "markdown",
   "metadata": {},
   "source": [
    "## Validate on a pre-set number of observations"
   ]
  },
  {
   "cell_type": "code",
   "execution_count": 4,
   "metadata": {},
   "outputs": [
    {
     "name": "stdout",
     "output_type": "stream",
     "text": [
      "CPU times: user 4min 27s, sys: 4.07 s, total: 4min 31s\n",
      "Wall time: 4min 28s\n"
     ]
    }
   ],
   "source": [
    "%%time\n",
    "#can validate on different mock observations; better to run in parallel\n",
    "#for i in range(len(compressed_datas)):\n",
    "for i in range(1):\n",
    "    pos(i)"
   ]
  },
  {
   "cell_type": "markdown",
   "metadata": {},
   "source": [
    "## Plot the results"
   ]
  },
  {
   "cell_type": "code",
   "execution_count": 10,
   "metadata": {},
   "outputs": [
    {
     "name": "stdout",
     "output_type": "stream",
     "text": [
      "Removed no burn in\n",
      "Removed no burn in\n",
      "Removed no burn in\n"
     ]
    },
    {
     "data": {
      "image/png": "[encoded data removed]",
      "text/plain": [
       "<Figure size 648x648 with 4 Axes>"
      ]
     },
     "metadata": {},
     "output_type": "display_data"
    },
    {
     "data": {
      "text/plain": [
       "<Figure size 288x216 with 0 Axes>"
      ]
     },
     "metadata": {},
     "output_type": "display_data"
    }
   ],
   "source": [
    "%matplotlib inline\n",
    "from getdist import plots, MCSamples\n",
    "import getdist\n",
    "\n",
    "param_names = ['$\\mathrm{log_{10}(T_{vir})[K]}$', '$\\mathrm{log_{10}\\,\\zeta}$']\n",
    "\n",
    "def plots_all(d_all,colorl,colorx):\n",
    "    sample1 = MCSamples(samples=[d_all[:,0]],names = [param_names[0]], labels = param_names[0])\n",
    "    sample2 = MCSamples(samples=[d_all[:,1]],names = [param_names[1]], labels = param_names[1])\n",
    "    g.add_1d(sample1,param_names[0], ax=ax[0,0], color=colorl)\n",
    "    g.add_1d(sample2,param_names[1], ax=ax[1,1], color=colorl)\n",
    "    sample12 = MCSamples(samples=d_all,names = param_names, labels = param_names)\n",
    "    con1 = g.add_2d_contours(sample12, param_names[0], param_names[1], ax=ax[1,0], color=colorl, filled = False,contour_levels=[0.32,0.05])\n",
    "\n",
    "for num in range(1):\n",
    "    fig, ax = plt.subplots(figsize=(9,9),nrows=2, ncols=2, gridspec_kw={'hspace': 0, 'wspace': 0})\n",
    "    ax[0,0].set_yticks([])\n",
    "    ax[0,0].set_xlim(4,6)\n",
    "    ax[0,0].set_ylim(0,1.1)\n",
    "    ax[0,0].axvline(theta_fiducial[0], linestyle='--', c = 'k', lw = .8)\n",
    "    ax[0,0].set_xticks([4.2, 4.7, 5.2, 5.7])\n",
    "    ax[0,0].tick_params(axis = 'x', top = False, direction = \"in\", length = 6)\n",
    "    \n",
    "    ax[0,1].set(frame_on=False)\n",
    "    ax[0,1].set_yticks([])\n",
    "    ax[0,1].set_xticks([])\n",
    "    ax[1,0].set_xlim(4,6)\n",
    "    ax[1,0].set_ylim(1,2.4)\n",
    "    ax[1,0].set_xticks([4.2, 4.7, 5.2, 5.7])\n",
    "    ax[1,0].set_yticks([1.2, 1.5, 1.8, 2.1])\n",
    "    \n",
    "    ax[1,0].tick_params(axis = 'both', top = True, right = True, direction = \"in\", length = 6)\n",
    "    ax[1,0].axvline(theta_fiducial[0], linestyle = '--', c = 'k', lw = .8)\n",
    "    ax[1,0].axhline(theta_fiducial[1], linestyle = '--', c = 'k', lw = .8)\n",
    "    ax[1,0].set_xlabel(\"$\\mathrm{log_{10}(T_{vir})[K]}$\",fontsize=15)\n",
    "    ax[1,0].set_ylabel(\"$\\mathrm{log_{10}\\,\\zeta}$\",fontsize=15)\n",
    "    ax[1,1].set_yticks([])\n",
    "    ax[1,1].set_xlim(1,2.4)\n",
    "    ax[1,1].set_ylim(0,1.1)\n",
    "    ax[1,1].set_xticks([1.2, 1.5, 1.8, 2.1])\n",
    "    ax[1,1].tick_params(axis = 'x', top = False, direction = \"in\", length = 6)\n",
    "    ax[1,1].axvline(theta_fiducial[1], linestyle = '--', c = 'k', lw = .8)\n",
    "    ax[1,1].set_xlabel(\"$\\mathrm{log_{10}\\,\\zeta}$\",fontsize=15)\n",
    "    \n",
    "    g = plots.getSinglePlotter(width_inch=4)\n",
    "    f = open(\"data/posterior_samples/po_validate_%d.pkl\"%num, 'rb')\n",
    "    d = pickle.load(f)\n",
    "    sample=np.unique(d[0], axis=0, return_counts=False)\n",
    "    plots_all(sample,'red','red')"
   ]
  },
  {
   "cell_type": "code",
   "execution_count": null,
   "metadata": {
    "collapsed": true
   },
   "outputs": [],
   "source": []
  }
 ],
 "metadata": {
  "kernelspec": {
   "display_name": "Python 3",
   "language": "python",
   "name": "python3"
  },
  "language_info": {
   "codemirror_mode": {
    "name": "ipython",
    "version": 3
   },
   "file_extension": ".py",
   "mimetype": "text/x-python",
   "name": "python",
   "nbconvert_exporter": "python",
   "pygments_lexer": "ipython3",
   "version": "3.6.2"
  }
 },
 "nbformat": 4,
 "nbformat_minor": 4
}
