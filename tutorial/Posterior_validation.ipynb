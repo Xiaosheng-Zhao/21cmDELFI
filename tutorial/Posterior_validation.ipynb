{
 "cells": [
  {
   "cell_type": "markdown",
   "metadata": {},
   "source": [
    "# Posterior test\n",
    "In this notebook, you can test on any observable with an individual trained model or the stacked one. This notebook is mainly borrowed from the [pydelfi](https://github.com/justinalsing/pydelfi) package whick is based on [Alsing et al. 2019](https://ui.adsabs.harvard.edu/abs/2019MNRAS.488.4440A). I made a minor change where one can display the stacked posterior as well as the individual ones. As long as you have enough test samples, you can use the test results to validate the posteriors. The diagnostics of the validation is introduced in another notebook \"Diagnostics\""
   ]
  },
  {
   "cell_type": "code",
   "execution_count": 1,
   "metadata": {},
   "outputs": [
    {
     "name": "stdout",
     "output_type": "stream",
     "text": [
      "WARNING:tensorflow:From /home/zxs/miniconda3/envs/21cmfast/lib/python3.6/site-packages/pydelfi-0.1-py3.6.egg/pydelfi/train.py:9: The name tf.train.AdamOptimizer is deprecated. Please use tf.compat.v1.train.AdamOptimizer instead.\n",
      "\n"
     ]
    }
   ],
   "source": [
    "import os\n",
    "import numpy as np\n",
    "import matplotlib.pyplot as plt\n",
    "import pydelfi.priors as priors\n",
    "import pydelfi.ndes as ndes\n",
    "import pydelfi.delfi as delfi\n",
    "import tensorflow as tf\n",
    "import pickle"
   ]
  },
  {
   "cell_type": "markdown",
   "metadata": {},
   "source": [
    "## prepare the data"
   ]
  },
  {
   "cell_type": "code",
   "execution_count": 2,
   "metadata": {
    "collapsed": true
   },
   "outputs": [],
   "source": [
    "#define the parameter prior \n",
    "lower = np.array([4,1])\n",
    "upper = np.array([6,2.398])\n",
    "prior = priors.Uniform(lower, upper)\n",
    "\n",
    "#validation data\n",
    "theta_fiducials = np.load('data/hera_para_validation.npy')\n",
    "compressed_datas = np.load('data/hera_ps_validation.npy')\n",
    "\n",
    "#training data\n",
    "sim_params = np.load('data/hera_para.npy')\n",
    "sim_compressed_data=np.load('data/hera_ps.npy')\n",
    "\n",
    "#dimension of the data summary\n",
    "nd=compressed_datas.shape[1]\n",
    "\n",
    "#0 for the faint model; 1 for the bright model\n",
    "theta_fiducial = theta_fiducials[0]\n",
    "compressed_data = compressed_datas[0]\n",
    "\n",
    "#the directory to load the trained model\n",
    "diri = \"data/diagnostics/trained_hera/\""
   ]
  },
  {
   "cell_type": "markdown",
   "metadata": {},
   "source": [
    "## define the function for validation on a single mock observation"
   ]
  },
  {
   "cell_type": "code",
   "execution_count": 3,
   "metadata": {
    "collapsed": true
   },
   "outputs": [],
   "source": [
    "def pos(i):\n",
    "   \n",
    "    theta_fiducial = theta_fiducials[i]\n",
    "    compressed_data = compressed_datas[i]\n",
    "\n",
    "    NDEs = [ndes.ConditionalMaskedAutoregressiveFlow(n_parameters=2, n_data=nd, n_hiddens=[50,50], n_mades=5, act_fun=tf.tanh, index=0),\n",
    "            ndes.ConditionalMaskedAutoregressiveFlow(n_parameters=2, n_data=nd, n_hiddens=[50,50], n_mades=5, act_fun=tf.tanh, index=1),\n",
    "            ndes.ConditionalMaskedAutoregressiveFlow(n_parameters=2, n_data=nd, n_hiddens=[50,50], n_mades=5, act_fun=tf.tanh, index=2),\n",
    "            ndes.ConditionalMaskedAutoregressiveFlow(n_parameters=2, n_data=nd, n_hiddens=[50,50], n_mades=5, act_fun=tf.tanh, index=3)]\n",
    "    \n",
    "\n",
    "    DelfiEnsemble = delfi.Delfi(compressed_data, prior, NDEs, \n",
    "                            Finv = None,\n",
    "                            n_procs = 1,\n",
    "                            theta_fiducial = theta_fiducial, \n",
    "                            param_limits = [lower, upper],\n",
    "                            param_names = ['\\mathrm{log_{10}\\,T_{vir}}', '\\mathrm{log_{10}\\,\\zeta}'], \n",
    "                            results_dir = diri,\n",
    "                            progress_bar = False,\n",
    "                            save = False,\n",
    "                            restore = True,\n",
    "                            input_normalization=None)\n",
    "\n",
    "    \n",
    "    posterior_samples = DelfiEnsemble.emcee_sample(burn_in_chain=600, main_chain=1000)\n",
    "    with open('data/posterior_samples/po_validate_%d.pkl'%i, 'wb') as f:\n",
    "        pickle.dump(posterior_samples,f)\n",
    "  "
   ]
  },
  {
   "cell_type": "markdown",
   "metadata": {},
   "source": [
    "## validate on a pre-set number of observations"
   ]
  },
  {
   "cell_type": "code",
   "execution_count": 4,
   "metadata": {},
   "outputs": [
    {
     "name": "stdout",
     "output_type": "stream",
     "text": [
      "WARNING:tensorflow:From /home/zxs/miniconda3/envs/21cmfast/lib/python3.6/site-packages/pydelfi-0.1-py3.6.egg/pydelfi/ndes.py:220: The name tf.placeholder is deprecated. Please use tf.compat.v1.placeholder instead.\n",
      "\n",
      "WARNING:tensorflow:From /home/zxs/miniconda3/envs/21cmfast/lib/python3.6/site-packages/pydelfi-0.1-py3.6.egg/pydelfi/ndes.py:234: The name tf.variable_scope is deprecated. Please use tf.compat.v1.variable_scope instead.\n",
      "\n",
      "WARNING:tensorflow:From /home/zxs/miniconda3/envs/21cmfast/lib/python3.6/site-packages/pydelfi-0.1-py3.6.egg/pydelfi/ndes.py:147: The name tf.get_variable is deprecated. Please use tf.compat.v1.get_variable instead.\n",
      "\n",
      "WARNING:tensorflow:From /home/zxs/miniconda3/envs/21cmfast/lib/python3.6/site-packages/pydelfi-0.1-py3.6.egg/pydelfi/ndes.py:66: The name tf.losses.mean_squared_error is deprecated. Please use tf.compat.v1.losses.mean_squared_error instead.\n",
      "\n",
      "WARNING:tensorflow:From /home/zxs/miniconda3/envs/21cmfast/lib/python3.6/site-packages/tensorflow/python/ops/losses/losses_impl.py:121: add_dispatch_support.<locals>.wrapper (from tensorflow.python.ops.array_ops) is deprecated and will be removed in a future version.\n",
      "Instructions for updating:\n",
      "Use tf.where in 2.0, which has the same broadcast rule as np.where\n",
      "WARNING:tensorflow:From /home/zxs/miniconda3/envs/21cmfast/lib/python3.6/site-packages/pydelfi-0.1-py3.6.egg/pydelfi/delfi.py:74: The name tf.Session is deprecated. Please use tf.compat.v1.Session instead.\n",
      "\n",
      "WARNING:tensorflow:From /home/zxs/miniconda3/envs/21cmfast/lib/python3.6/site-packages/pydelfi-0.1-py3.6.egg/pydelfi/delfi.py:74: The name tf.ConfigProto is deprecated. Please use tf.compat.v1.ConfigProto instead.\n",
      "\n",
      "WARNING:tensorflow:From /home/zxs/miniconda3/envs/21cmfast/lib/python3.6/site-packages/pydelfi-0.1-py3.6.egg/pydelfi/delfi.py:176: The name tf.train.Saver is deprecated. Please use tf.compat.v1.train.Saver instead.\n",
      "\n",
      "WARNING:tensorflow:From /home/zxs/miniconda3/envs/21cmfast/lib/python3.6/site-packages/tensorflow/python/training/saver.py:1276: checkpoint_exists (from tensorflow.python.training.checkpoint_management) is deprecated and will be removed in a future version.\n",
      "Instructions for updating:\n",
      "Use standard file APIs to check for files with this prefix.\n",
      "INFO:tensorflow:Restoring parameters from data/diagnostics/trained_hera/graph_checkpoint\n"
     ]
    },
    {
     "name": "stderr",
     "output_type": "stream",
     "text": [
      "/home/zxs/miniconda3/envs/21cmfast/lib/python3.6/site-packages/pydelfi-0.1-py3.6.egg/pydelfi/delfi.py:230: RuntimeWarning: divide by zero encountered in log\n"
     ]
    }
   ],
   "source": [
    "#can validate on different mock observations; better to run in parallel\n",
    "#for i in range(len(compressed_datas)):\n",
    "for i in range(1):\n",
    "    pos(i)"
   ]
  },
  {
   "cell_type": "code",
   "execution_count": null,
   "metadata": {
    "collapsed": true
   },
   "outputs": [],
   "source": []
  }
 ],
 "metadata": {
  "kernelspec": {
   "display_name": "Python 3",
   "language": "python",
   "name": "python3"
  },
  "language_info": {
   "codemirror_mode": {
    "name": "ipython",
    "version": 3
   },
   "file_extension": ".py",
   "mimetype": "text/x-python",
   "name": "python",
   "nbconvert_exporter": "python",
   "pygments_lexer": "ipython3",
   "version": "3.6.2"
  }
 },
 "nbformat": 4,
 "nbformat_minor": 4
}
