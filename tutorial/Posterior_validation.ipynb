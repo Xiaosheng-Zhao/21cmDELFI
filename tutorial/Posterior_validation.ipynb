{
 "cells": [
  {
   "cell_type": "code",
   "execution_count": null,
   "metadata": {},
   "outputs": [],
   "source": [
    "import os\n",
    "import numpy as np\n",
    "import matplotlib.pyplot as plt\n",
    "import pydelfi.priors as priors\n",
    "import pydelfi.ndes as ndes\n",
    "import pydelfi.delfi as delfi\n",
    "import tensorflow as tf\n",
    "import pickle"
   ]
  },
  {
   "cell_type": "markdown",
   "metadata": {},
   "source": [
    "# prepare the data"
   ]
  },
  {
   "cell_type": "code",
   "execution_count": null,
   "metadata": {},
   "outputs": [],
   "source": [
    "#define the parameter prior \n",
    "lower = np.array([4,1])\n",
    "upper = np.array([6,2.398])\n",
    "prior = priors.Uniform(lower, upper)\n",
    "\n",
    "#validation data\n",
    "theta_fiducials = np.load('data/hera_para_validation.npy')\n",
    "compressed_datas = np.load('data/hera_ps_validation.npy')\n",
    "\n",
    "#training data\n",
    "sim_params = np.load('data/hera_para.npy')[0:9000]\n",
    "sim_compressed_data=np.load('data/hera_ps.npy')[0:9000]\n",
    "\n",
    "#dimension of the data summary\n",
    "nd=compressed_datas.shape[1]\n",
    "\n",
    "#0 for the faint model; 1 for the bright model\n",
    "theta_fiducial = theta_fiducials[i]\n",
    "compressed_data = compressed_datas[i]\n",
    "\n",
    "#the directory to load the trained model\n",
    "diri = \"data/model/trained_hera/\""
   ]
  },
  {
   "cell_type": "markdown",
   "metadata": {},
   "source": [
    "# define the function for validation on a single mock observation"
   ]
  },
  {
   "cell_type": "code",
   "execution_count": null,
   "metadata": {},
   "outputs": [],
   "source": [
    "def pos(i):\n",
    "   \n",
    "    theta_fiducial = theta_fiducials[i]\n",
    "    compressed_data = compressed_datas[i]\n",
    "\n",
    "    NDEs = [ndes.ConditionalMaskedAutoregressiveFlow(n_parameters=2, n_data=nd, n_hiddens=[50,50], n_mades=5, act_fun=tf.tanh, index=0),\n",
    "            ndes.ConditionalMaskedAutoregressiveFlow(n_parameters=2, n_data=nd, n_hiddens=[50,50], n_mades=5, act_fun=tf.tanh, index=1),\n",
    "            ndes.ConditionalMaskedAutoregressiveFlow(n_parameters=2, n_data=nd, n_hiddens=[50,50], n_mades=5, act_fun=tf.tanh, index=2),\n",
    "            ndes.ConditionalMaskedAutoregressiveFlow(n_parameters=2, n_data=nd, n_hiddens=[50,50], n_mades=5, act_fun=tf.tanh, index=3)]\n",
    "    \n",
    "\n",
    "    DelfiEnsemble = delfi.Delfi(compressed_data, prior, NDEs, \n",
    "                            Finv = None,\n",
    "                            n_procs = 1,\n",
    "                            theta_fiducial = theta_fiducial, \n",
    "                            param_limits = [lower, upper],\n",
    "                            param_names = ['\\mathrm{log_{10}\\,T_{vir}}', '\\mathrm{log_{10}\\,\\zeta}'], \n",
    "                            results_dir = diri,\n",
    "                            progress_bar = False,\n",
    "                            save = False,\n",
    "                            restore = True,\n",
    "                            input_normalization=None)\n",
    "\n",
    "    \n",
    "    posterior_samples = DelfiEnsemble.emcee_sample(burn_in_chain=600, main_chain=1000)\n",
    "    with open('data/validate/po_validate_%d.pkl'%i, 'wb') as f:\n",
    "        pickle.dump(posterior_samples,f)\n",
    "  "
   ]
  },
  {
   "cell_type": "markdown",
   "metadata": {},
   "source": [
    "# validate on a pre-set number of observations"
   ]
  },
  {
   "cell_type": "code",
   "execution_count": null,
   "metadata": {},
   "outputs": [],
   "source": [
    "#can validate on different mock observations; better to run in parallel\n",
    "#for i in range(len(compressed_datas)):\n",
    "for i in range(1):\n",
    "    pos(i)"
   ]
  }
 ],
 "metadata": {
  "kernelspec": {
   "display_name": "Python 3",
   "language": "python",
   "name": "python3"
  },
  "language_info": {
   "codemirror_mode": {
    "name": "ipython",
    "version": 3
   },
   "file_extension": ".py",
   "mimetype": "text/x-python",
   "name": "python",
   "nbconvert_exporter": "python",
   "pygments_lexer": "ipython3",
   "version": "3.7.4"
  }
 },
 "nbformat": 4,
 "nbformat_minor": 4
}
